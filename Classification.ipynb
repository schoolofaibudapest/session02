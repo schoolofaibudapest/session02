{
 "cells": [
  {
   "cell_type": "markdown",
   "metadata": {},
   "source": [
    "# Classification with Keras"
   ]
  },
  {
   "cell_type": "markdown",
   "metadata": {},
   "source": [
    "***MNIST dataset***<br>\n",
    "Contains 70000 handwritten digits(60000 train, 10000 test), and labels for all the images.<br>\n",
    "For more info:<br>\n",
    "http://yann.lecun.com/exdb/mnist/"
   ]
  },
  {
   "cell_type": "markdown",
   "metadata": {},
   "source": [
    "***Keras CNN MNIST*** example code can be found here:<br>\n",
    "https://github.com/keras-team/keras/blob/master/examples/mnist_cnn.py"
   ]
  },
  {
   "cell_type": "markdown",
   "metadata": {},
   "source": [
    "Keep in mind, on a CPU the train could be take hours.<br>\n",
    "On my laptop 2 epochs took ~1,5 hour. Compare with a GPU performance, it's a huge difference.<br>\n",
    "GPU:<br>\n",
    "```\n",
    "60000/60000 [==============================] - 3s 49us/step - loss: 0.0286 - acc: 0.9914 - val_loss: 0.0294 - val_acc: 0.9910\n",
    "Epoch 12/12\n",
    "60000/60000 [==============================] - 3s 48us/step - loss: 0.0262 - acc: 0.9920 - val_loss: 0.0269 - val_acc: 0.9920\n",
    "Test loss: 0.026884999596639453\n",
    "Test accuracy: 0.992\n",
    "```\n",
    "Another option is train in the cloud.<br>\n",
    "***Google Colaboratory*** is a nice starting point for that. They give free GPU time to train your model.<br>\n",
    "For more info:<br>\n",
    "https://colab.research.google.com/notebooks/welcome.ipynb"
   ]
  },
  {
   "cell_type": "markdown",
   "metadata": {},
   "source": [
    "## CNNs"
   ]
  },
  {
   "cell_type": "markdown",
   "metadata": {},
   "source": [
    "Convolutional Neural Networks are similar to simple artificial NNs. The only difference is, the network assumption is to use images as inputs. That allow us to encode properties to the network architecture.<br>\n",
    "CNN = Artificial Neural Network + a set of operations we call Convolution.<br>"
   ]
  },
  {
   "cell_type": "markdown",
   "metadata": {},
   "source": [
    "***Aritificial neurons*** simulate biological neurons in a limited way.<br>\n",
    "![title](notebook_contents/artificial_neuron.jpeg)\n",
    "The inputs represented as x1,x2, so on... which are connected to the activation function(f).<br>\n",
    "The connection between the inputs(x), and the activation function(f) dawned by a set of weights, which are represented W1, W2, so on...<br>\n",
    "Besides this, we have a bias(b). -TODO replace image<br>\n",
    "After applying the output of the activation function we got the 'output' as well, which is a function applied to the input, weighted by W and the bias."
   ]
  },
  {
   "cell_type": "markdown",
   "metadata": {},
   "source": [
    "***Convolution***<br>\n",
    "![title](notebook_contents/convolution.jpg)\n",
    "For now we stay at images.<br>\n",
    "We have a single input image, and we apply a filter(also known as kerner,mask) on it.<br>\n",
    "The image can represent as pixels*pixels, and if we use greyscaled pictures, the number between [0,255].<br>\n",
    "We get the result of the convolutional by combining the input window, weighted by the values inside the filter.<br>\n",
    "In this case the kernel was:\n",
    "```\n",
    "W0(1,0,1)\n",
    "W1(0,1,0)\n",
    "W2(1,0,1)\n",
    "```"
   ]
  },
  {
   "cell_type": "markdown",
   "metadata": {},
   "source": [
    "### CNN applied for image classification"
   ]
  },
  {
   "cell_type": "markdown",
   "metadata": {},
   "source": [
    "    Firs layer is one or more layers of convolution.\n",
    "    After this we apply one or more steps of pooling.\n",
    "    We design a fully connected layer.\n",
    "    At the end we use some classification, like softmax."
   ]
  },
  {
   "cell_type": "markdown",
   "metadata": {},
   "source": [
    "We use this method to create our CNN to classify digits on images from 0-9.<br>\n",
    "Let's get stated."
   ]
  },
  {
   "cell_type": "markdown",
   "metadata": {},
   "source": [
    "First let's ***import the libraries*** we will use.<br>\n",
    "Keras will download the dataset for us.<br>\n",
    "backend - At this time, Keras has three backend implementations available: the TensorFlow backend, the Theano backend, and the CNTK backend. We use TensorFlow by default. You can check/change it in your /home/.keras/keras.json file."
   ]
  },
  {
   "cell_type": "code",
   "execution_count": 9,
   "metadata": {},
   "outputs": [],
   "source": [
    "'''Trains a simple convnet on the MNIST dataset.\n",
    "Gets to 99.25% test accuracy after 12 epochs\n",
    "(there is still a lot of margin for parameter tuning).\n",
    "16 seconds per epoch on a GRID K520 GPU.\n",
    "'''\n",
    "\n",
    "import matplotlib.pyplot as plt\n",
    "%matplotlib inline\n",
    "import numpy as np\n",
    "\n",
    "from __future__ import print_function\n",
    "import keras\n",
    "from keras.datasets import mnist\n",
    "from keras.models import Sequential\n",
    "from keras.layers import Dense, Dropout, Flatten\n",
    "from keras.layers import Conv2D, MaxPooling2D\n",
    "from keras import backend as K\n",
    "from keras.callbacks import TensorBoard\n",
    "\n",
    "tensorboard = TensorBoard(log_dir='./logs', histogram_freq=0,\n",
    "                          write_graph=True, write_images=False)"
   ]
  },
  {
   "cell_type": "markdown",
   "metadata": {},
   "source": [
    "***batch_size =*** Integer or None. Number of samples per gradient update. If unspecified, batch_size will default to 32.<br>\n",
    "For more info:<br>\n",
    "https://keras.io/models/sequential/<br>\n",
    "***num_class =*** Just the classes we want to distinguish. In this case numbers from '0' to '9'.<br>\n",
    "***epochs =*** Integer. Number of epochs to train the model. An epoch is an iteration over the entire x and y data provided.<br>\n",
    "For more info:<br>\n",
    "https://keras.io/models/sequential/"
   ]
  },
  {
   "cell_type": "code",
   "execution_count": 10,
   "metadata": {},
   "outputs": [],
   "source": [
    "# define random.seed for reproducibility\n",
    "seed = 7\n",
    "np.random.seed(seed)\n",
    "\n",
    "batch_size = 128\n",
    "num_classes = 10\n",
    "epochs = 12"
   ]
  },
  {
   "cell_type": "markdown",
   "metadata": {},
   "source": [
    "***Load the dataset images, and split them to train, and test datas.***"
   ]
  },
  {
   "cell_type": "code",
   "execution_count": 11,
   "metadata": {},
   "outputs": [],
   "source": [
    "# the data, split between train and test sets\n",
    "(x_train, y_train), (x_test, y_test) = mnist.load_data()"
   ]
  },
  {
   "cell_type": "markdown",
   "metadata": {},
   "source": [
    "***Check the dataset:***<br>\n",
    "Lets take a look some of the train images. Every image(x_train) has a label(y_train).<br>\n",
    "Train image shape shows the actual image's shape. In this case we have 60000 images with 28x28 pixels.<br>\n",
    "Train labels shape just a 1D array that represent the actual/correct output for the images."
   ]
  },
  {
   "cell_type": "code",
   "execution_count": 12,
   "metadata": {},
   "outputs": [
    {
     "name": "stdout",
     "output_type": "stream",
     "text": [
      "train images shape:(60000, 28, 28)\n",
      "train labels shape:[5 0 4 ... 5 6 8]\n"
     ]
    },
    {
     "data": {
      "image/png": "[encoded data removed]",
      "text/plain": [
       "<Figure size 432x288 with 10 Axes>"
      ]
     },
     "metadata": {},
     "output_type": "display_data"
    }
   ],
   "source": [
    "for i in range(10):\n",
    "    plt.subplot(2,5,i+1)\n",
    "    plt.imshow(x_train[i])\n",
    "    plt.title(\"{}\".format(y_train[i]))\n",
    "print(\"train images shape:{}\\ntrain labels shape:{}\".format(x_train.shape, y_train))"
   ]
  },
  {
   "cell_type": "markdown",
   "metadata": {},
   "source": [
    "***Resize the images rows', and columbs' for faster processing.<br>***\n",
    "The 28x28 is a good starting point for hand written characters. As you can see above, the rows, and cols are already 28x28 pixels.<br>\n",
    "Also the model needs to know what input shape it should expect. For this reason, the first layer in a Sequential model (and only the first, because following layers can do automatic shape inference) needs to receive information about its input shape."
   ]
  },
  {
   "cell_type": "code",
   "execution_count": 13,
   "metadata": {},
   "outputs": [],
   "source": [
    "# input image dimensions\n",
    "img_rows, img_cols = 28, 28\n",
    "if K.image_data_format() == 'channels_first':\n",
    "    x_train = x_train.reshape(x_train.shape[0], 1, img_rows, img_cols)\n",
    "    x_test = x_test.reshape(x_test.shape[0], 1, img_rows, img_cols)\n",
    "    input_shape = (1, img_rows, img_cols)\n",
    "else:\n",
    "    x_train = x_train.reshape(x_train.shape[0], img_rows, img_cols, 1)\n",
    "    x_test = x_test.reshape(x_test.shape[0], img_rows, img_cols, 1)\n",
    "    input_shape = (img_rows, img_cols, 1)"
   ]
  },
  {
   "cell_type": "markdown",
   "metadata": {},
   "source": [
    "***Normalize the the datas.<br>***\n",
    "This is proprocessing step where we convert our data to float32 type, and normalize between range [0,1].<br>\n",
    "Almost all of the ML algorithms have better results if we normalize the datas, and also the converge can be much faster -> that improves the learning rate."
   ]
  },
  {
   "cell_type": "code",
   "execution_count": 14,
   "metadata": {},
   "outputs": [
    {
     "name": "stdout",
     "output_type": "stream",
     "text": [
      "x_train shape: (60000, 28, 28, 1)\n",
      "60000 train samples\n",
      "10000 test samples\n"
     ]
    }
   ],
   "source": [
    "# normalization\n",
    "x_train = x_train.astype('float32')\n",
    "x_test = x_test.astype('float32')\n",
    "x_train /= 255\n",
    "x_test /= 255\n",
    "print('x_train shape:', x_train.shape)\n",
    "print(x_train.shape[0], 'train samples')\n",
    "print(x_test.shape[0], 'test samples')"
   ]
  },
  {
   "cell_type": "markdown",
   "metadata": {},
   "source": [
    "***The keras.utils.to_categorical function:***\n",
    "Use keras.utils.to_categorical on the train/test labels to converts a class vector (integers) to binary class matrix, because we will use categorical_crossentropy as well.<br>\n",
    "E.g.:\n",
    "```\n",
    "0 -> [1, 0, 0, 0, 0, 0, 0, 0, 0]\n",
    "1 -> [0, 1, 0, 0, 0, 0, 0, 0, 0]\n",
    "2 -> [0, 0, 1, 0, 0, 0, 0, 0, 0]\n",
    "etc.\n",
    "```\n"
   ]
  },
  {
   "cell_type": "code",
   "execution_count": 15,
   "metadata": {},
   "outputs": [],
   "source": [
    "# convert class vectors to binary class matrices\n",
    "y_train = keras.utils.to_categorical(y_train, num_classes)\n",
    "y_test = keras.utils.to_categorical(y_test, num_classes)"
   ]
  },
  {
   "cell_type": "markdown",
   "metadata": {},
   "source": [
    "## Before we start the training, some useful information:\n",
    "\n",
    "### We use Sequential model:\n",
    "A linear stack of layers.<br>\n",
    "For more info:<br>\n",
    "https://keras.io/models/sequential/<br>\n",
    "https://keras.io/getting-started/sequential-model-guide/\n",
    "### Dense layer(aka. fully connected layer): \n",
    "Just your regular densely-connected NN layer. Where all the input is connected to all the outputs by a weight. Generally followed by an activation function. The layer has a weight matrix(w), a bias(b), and an activation(a).\n",
    "Other layers: Convolutional, Pooling, Normalisation, etc.<br>\n",
    "keras.layers.Dense(units, activation=None, use_bias=True, kernel_initializer='glorot_uniform', bias_initializer='zeros', kernel_regularizer=None, bias_regularizer=None, activity_regularizer=None, kernel_constraint=None, bias_constraint=None)<br>\n",
    "For more info:<br>\n",
    "https://keras.io/layers/core/<br>\n",
    "Also check out how can you create your own layer in Keras:<br>\n",
    "https://keras.io/layers/writing-your-own-keras-layers/\n",
    "### Conv2D is a 2D convolution layer (e.g. spatial convolution over images).\n",
    "This layer creates a convolution kernel that is convolved with the layer input to produce a tensor of outputs. If use_bias is True, a bias vector is created and added to the outputs. Finally, if activation is not None, it is applied to the outputs as well. When using this layer as the first layer in a model, provide the keyword argument input_shape.<br>\n",
    "keras.layers.Conv2D(filters, kernel_size, strides=(1, 1), padding='valid', data_format=None, dilation_rate=(1, 1), activation=None, use_bias=True, kernel_initializer='glorot_uniform', bias_initializer='zeros', kernel_regularizer=None, bias_regularizer=None, activity_regularizer=None, kernel_constraint=None, bias_constraint=None)<br>\n",
    "For more info:<br>\n",
    "https://keras.io/layers/convolutional/\n",
    "### Dropout \n",
    "is a techniq to tackle overfitting. While the network is learning the weights of the neurons are tuned for specific features. Connected neurons have effect on this. If it's going too far, the model will be specialize for the training data. With dropout the model will be more adaptive. If we drop out randomly some neurons the other neurons have to step in and learn the predictions for the missing neurons. The network becomes less sensitive to the specific weights of neurons.<br>\n",
    "keras.layers.Dropout(rate, noise_shape=None, seed=None)<br>\n",
    "For more info:<br>\n",
    "https://keras.io/layers/core/#dropout\n",
    "### MaxPooling2D \n",
    "is a sample-based discretization process. We can down-sample the input representation, but keep the most important informations.<br>\n",
    "keras.layers.MaxPooling1D(pool_size=2, strides=None, padding='valid', data_format='channels_last')<br>\n",
    "For more info:<br>\n",
    "https://keras.io/layers/pooling/<br>\n",
    "https://www.quora.com/What-is-max-pooling-in-convolutional-neural-network<br>\n",
    "\n",
    "#### Also\n",
    "Check the loss functions:<br>\n",
    "https://keras.io/losses/<br>\n",
    "Check optimizers:<br>\n",
    "https://keras.io/optimizers/<br>\n",
    "Check the available activation functions:<br>\n",
    "https://keras.io/activations/"
   ]
  },
  {
   "cell_type": "code",
   "execution_count": null,
   "metadata": {},
   "outputs": [],
   "source": [
    "model = Sequential()\n",
    "model.add(Conv2D(32, kernel_size=(3, 3),\n",
    "                 activation='relu',\n",
    "                 input_shape=input_shape))\n",
    "model.add(Conv2D(64, (3, 3), activation='relu'))\n",
    "model.add(MaxPooling2D(pool_size=(2, 2)))\n",
    "model.add(Dropout(0.25))\n",
    "model.add(Flatten())\n",
    "model.add(Dense(128, activation='relu'))\n",
    "model.add(Dropout(0.5))\n",
    "model.add(Dense(num_classes, activation='softmax'))\n",
    "\n",
    "model.compile(loss=keras.losses.categorical_crossentropy,\n",
    "              optimizer=keras.optimizers.Adadelta(),\n",
    "              metrics=['accuracy'])\n",
    "\n",
    "model.fit(x_train, y_train,\n",
    "          batch_size=batch_size,\n",
    "          epochs=epochs,\n",
    "          verbose=1,\n",
    "          validation_data=(x_test, y_test),\n",
    "          callbacks=[tensorboard])\n",
    "\n",
    "model.save('MNIST.h5')\n",
    "\n",
    "score = model.evaluate(x_test, y_test, verbose=0)\n",
    "print('Test loss:', score[0])\n",
    "print('Test accuracy:', score[1])"
   ]
  },
  {
   "cell_type": "markdown",
   "metadata": {},
   "source": [
    "The below code is only for testing purpose right now.<br>\n",
    "You have to save the picture before you do predict on it.<br>\n",
    "Still working on a robust solution for this.<br>\n",
    "I'll update with the final version, if it's available.<br>\n",
    "To use you have to change from 'Markdown' to 'Code'."
   ]
  },
  {
   "cell_type": "markdown",
   "metadata": {},
   "source": [
    "import matplotlib.pyplot as plt\n",
    "import PIL\n",
    "import numpy as np\n",
    "import cv2\n",
    "from tkinter import *\n",
    "from PIL import ImageTk, Image, ImageDraw\n",
    "from keras.preprocessing.image import img_to_array, load_img\n",
    "from keras.models import load_model\n",
    "import os\n",
    "#import base64\n",
    "%matplotlib inline\n",
    "\n",
    "canvas_width = 280\n",
    "canvas_height = 280\n",
    "line_width = int(canvas_width/10)\n",
    "image_width= 28\n",
    "image_height = 28\n",
    "white = (255, 255, 255)\n",
    "green = (0,128,0)\n",
    "image_number = 0\n",
    "\n",
    "def save(): #TODO now we have to save the image first to do predict.\n",
    "    global image_number\n",
    "    filename = f'image_{image_number}.jpg'\n",
    "    image.save(filename)\n",
    "    image_number += 1\n",
    "    \n",
    "def paint(event):\n",
    "    # python_green = \"#476042\"\n",
    "    x1, y1 = (event.x - 1), (event.y - 1)\n",
    "    x2, y2 = (event.x + 1), (event.y + 1)\n",
    "    cv.create_oval(x1, y1, x2, y2, fill=\"black\",width=line_width)\n",
    "    draw.line([x1, y1, x2, y2],fill=\"black\",width=line_width)\n",
    "        \n",
    "def prediction():\n",
    "    global image_number\n",
    "    model = load_model('MNIST.h5')\n",
    "    img = load_img(f'image_{image_number-1}.jpg')\n",
    "    img = np.asarray(img)\n",
    "    img = cv2.resize(img,(image_width, image_height)) \n",
    "    img = cv2.cvtColor(img, cv2.COLOR_RGB2GRAY)\n",
    "    x = img_to_array(img)\n",
    "    x = np.expand_dims(x, axis=0)\n",
    "    #plt.imshow(x)\n",
    "    preds = model.predict_classes(x)\n",
    "    prob = model.predict_proba(x)\n",
    "    try:\n",
    "        cv.delete(T)\n",
    "    except:\n",
    "        pass\n",
    "    T = Text(root, height=1, width=14)\n",
    "    T.pack()\n",
    "    T.insert(END, \"Prediction:{}\".format(preds[0]))\n",
    "    \n",
    "    print(preds, prob)\n",
    "\n",
    "root = Tk()\n",
    "root.title(\"Predict\")\n",
    "root.configure(background='white')\n",
    "# Tkinter create a canvas to draw on\n",
    "cv = Canvas(root, width=canvas_width, height=canvas_height, bg='white')\n",
    "\n",
    "# PIL create an empty image and draw object to draw on\n",
    "# memory only, not visible\n",
    "image = PIL.Image.new(\"RGB\", (canvas_width, canvas_height), 'white')\n",
    "draw = ImageDraw.Draw(image)\n",
    "cv.bind(\"<B1-Motion>\", paint)\n",
    "cv.pack(expand=YES, fill=BOTH)\n",
    "\n",
    "button1=Button(text=\"predict\",command=prediction)\n",
    "button1.pack(side=LEFT)\n",
    "# TODO clear the Canvas.\n",
    "#button2=Button(root,fg=\"green\",text=\"Clear\",command=clear(cv, i))\n",
    "#button2.pack(side=RIGHT)\n",
    "button3=Button(root,fg=\"green\",text=\"Save\",command=save)\n",
    "button3.pack(side=RIGHT)\n",
    "root.mainloop()"
   ]
  },
  {
   "cell_type": "markdown",
   "metadata": {},
   "source": [
    "***Used sources:***<br>\n",
    "https://keras.io<br>\n",
    "https://colab.research.google.com<br>\n",
    "https://www.quora.com/What-is-max-pooling-in-convolutional-neural-networks<br>\n",
    "https://machinelearningmastery.com/dropout-regularization-deep-learning-models-keras/<br>\n",
    "https://medium.com/technologymadeeasy/for-dummies-the-introduction-to-neural-networks-we-all-need-c50f6012d5eb"
   ]
  },
  {
   "cell_type": "code",
   "execution_count": null,
   "metadata": {},
   "outputs": [],
   "source": []
  }
 ],
 "metadata": {
  "kernelspec": {
   "display_name": "Python 3",
   "language": "python",
   "name": "python3"
  },
  "language_info": {
   "codemirror_mode": {
    "name": "ipython",
    "version": 3
   },
   "file_extension": ".py",
   "mimetype": "text/x-python",
   "name": "python",
   "nbconvert_exporter": "python",
   "pygments_lexer": "ipython3",
   "version": "3.6.6"
  }
 },
 "nbformat": 4,
 "nbformat_minor": 2
}
